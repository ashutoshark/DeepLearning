{
 "cells": [
  {
   "cell_type": "code",
   "execution_count": 32,
   "metadata": {},
   "outputs": [],
   "source": [
    "import tensorflow as tf\n",
    "from tensorflow import keras\n",
    "from keras import layers\n",
    "from keras.datasets import mnist"
   ]
  },
  {
   "cell_type": "markdown",
   "metadata": {},
   "source": [
    "load dataset"
   ]
  },
  {
   "cell_type": "code",
   "execution_count": 29,
   "metadata": {},
   "outputs": [
    {
     "name": "stdout",
     "output_type": "stream",
     "text": [
      "(60000, 28, 28) (60000,)\n"
     ]
    }
   ],
   "source": [
    "\n",
    "(x_train,y_train),(x_test,y_test)=mnist.load_data()\n",
    "print(x_train.shape,y_train.shape) # (60000, 28, 28) (60000,)\n",
    "# since we feed the data into nural network we need flatten the x_train data\n",
    "x_train=x_train.reshape(-1,28*28).astype(\"float64\")/255.0\n",
    "x_test=x_test.reshape(-1,28*28).astype(\"float64\")/255.0\n",
    "# or we could do the below code also\n",
    "# x_train,x_test=x_train/255.0,x_test/255.0"
   ]
  },
  {
   "cell_type": "markdown",
   "metadata": {},
   "source": [
    "now creating Modle\n"
   ]
  },
  {
   "cell_type": "code",
   "execution_count": 40,
   "metadata": {},
   "outputs": [
    {
     "name": "stdout",
     "output_type": "stream",
     "text": [
      "Epoch 1/5\n",
      "1875/1875 - 9s - loss: 0.1887 - accuracy: 0.9432 - 9s/epoch - 5ms/step\n",
      "Epoch 2/5\n",
      "1875/1875 - 9s - loss: 0.0793 - accuracy: 0.9757 - 9s/epoch - 5ms/step\n",
      "Epoch 3/5\n",
      "1875/1875 - 9s - loss: 0.0542 - accuracy: 0.9826 - 9s/epoch - 5ms/step\n",
      "Epoch 4/5\n",
      "1875/1875 - 8s - loss: 0.0409 - accuracy: 0.9866 - 8s/epoch - 4ms/step\n",
      "Epoch 5/5\n",
      "1875/1875 - 9s - loss: 0.0348 - accuracy: 0.9891 - 9s/epoch - 5ms/step\n",
      "313/313 - 1s - loss: 0.0815 - accuracy: 0.9787 - 763ms/epoch - 2ms/step\n"
     ]
    },
    {
     "data": {
      "text/plain": [
       "[0.08152534067630768, 0.9786999821662903]"
      ]
     },
     "execution_count": 40,
     "metadata": {},
     "output_type": "execute_result"
    }
   ],
   "source": [
    "# we are using sequential modle :these are convenient but not flexible\n",
    "# one input map to one output\n",
    "model=keras.Sequential(\n",
    "    [\n",
    "        layers.Dense(512,activation='relu'), #this is first layer with 512 nodes\n",
    "        layers.Dense(256,activation='relu'),\n",
    "        layers.Dense(10), #this layer is maped to output\n",
    "    ]\n",
    ")\n",
    "\n",
    "# model.compile is like all configuration\n",
    "model.compile(\n",
    "    loss=keras.losses.SparseCategoricalCrossentropy(from_logits=True), #we could use sofmax as wll\n",
    "    # now define the optimizer\n",
    "    optimizer=keras.optimizers.Adam(learning_rate=0.001),\n",
    "    metrics=[\"accuracy\"],\n",
    ")\n",
    "# model.fit is kind of concrit trainning of that network\n",
    "model.fit(x_train,y_train,batch_size=32,epochs=5,verbose=2)\n",
    "model.evaluate(x_test,y_test,batch_size=32,verbose=2)\n"
   ]
  },
  {
   "cell_type": "code",
   "execution_count": 39,
   "metadata": {},
   "outputs": [
    {
     "name": "stdout",
     "output_type": "stream",
     "text": [
      "Model: \"sequential_4\"\n",
      "_________________________________________________________________\n",
      " Layer (type)                Output Shape              Param #   \n",
      "=================================================================\n",
      " dense_12 (Dense)            (None, 512)               401920    \n",
      "                                                                 \n",
      " dense_13 (Dense)            (None, 256)               131328    \n",
      "                                                                 \n",
      " dense_14 (Dense)            (None, 10)                2570      \n",
      "                                                                 \n",
      "=================================================================\n",
      "Total params: 535,818\n",
      "Trainable params: 535,818\n",
      "Non-trainable params: 0\n",
      "_________________________________________________________________\n",
      "None\n"
     ]
    }
   ],
   "source": [
    "model=keras.Sequential(\n",
    "    [\n",
    "        keras.Input(shape=28*28),\n",
    "        layers.Dense(512,activation='relu'), #this is first layer with 512 nodes\n",
    "        layers.Dense(256,activation='relu'),\n",
    "        layers.Dense(10), #this layer is maped to output\n",
    "    ]\n",
    ")\n",
    "print(\"we could able to see details about out network\")\n",
    "print(model.summary())"
   ]
  },
  {
   "cell_type": "code",
   "execution_count": 47,
   "metadata": {},
   "outputs": [
    {
     "name": "stdout",
     "output_type": "stream",
     "text": [
      "Model: \"sequential_8\"\n",
      "_________________________________________________________________\n",
      " Layer (type)                Output Shape              Param #   \n",
      "=================================================================\n",
      " dense_27 (Dense)            (None, 512)               401920    \n",
      "                                                                 \n",
      "=================================================================\n",
      "Total params: 401,920\n",
      "Trainable params: 401,920\n",
      "Non-trainable params: 0\n",
      "_________________________________________________________________\n",
      "None\n",
      "Model: \"sequential_8\"\n",
      "_________________________________________________________________\n",
      " Layer (type)                Output Shape              Param #   \n",
      "=================================================================\n",
      " dense_27 (Dense)            (None, 512)               401920    \n",
      "                                                                 \n",
      " dense_28 (Dense)            (None, 256)               131328    \n",
      "                                                                 \n",
      "=================================================================\n",
      "Total params: 533,248\n",
      "Trainable params: 533,248\n",
      "Non-trainable params: 0\n",
      "_________________________________________________________________\n"
     ]
    },
    {
     "name": "stdout",
     "output_type": "stream",
     "text": [
      "None\n",
      "1875/1875 [==============================] - 4s 2ms/step\n",
      "(60000, 512)\n",
      "(60000, 256)\n",
      "(60000, 10)\n"
     ]
    }
   ],
   "source": [
    "# another way of creating model through add one layer on another\n",
    "# we could debug these type of modle easily in more complex layer by layer\n",
    "model=keras.Sequential()\n",
    "model.add(keras.Input(shape=(28*28)))\n",
    "model.add(layers.Dense(512,activation='relu'))\n",
    "print(model.summary())\n",
    "model.add(layers.Dense(256,activation='relu'))\n",
    "print(model.summary())\n",
    "model.add(layers.Dense(10))\n",
    "\n",
    "\n",
    "# here we are able to get all output at different layers of model\n",
    "model=keras.Model(inputs=model.inputs,outputs=[layer.output for layer in model.layers])\n",
    "features=model.predict(x_train)\n",
    "for feature in features:\n",
    "    print(feature.shape)\n"
   ]
  },
  {
   "cell_type": "markdown",
   "metadata": {},
   "source": [
    "Functional Api"
   ]
  },
  {
   "cell_type": "code",
   "execution_count": 45,
   "metadata": {},
   "outputs": [
    {
     "name": "stdout",
     "output_type": "stream",
     "text": [
      "Model: \"model_1\"\n",
      "_________________________________________________________________\n",
      " Layer (type)                Output Shape              Param #   \n",
      "=================================================================\n",
      " input_8 (InputLayer)        [(None, 784)]             0         \n",
      "                                                                 \n",
      " first_layer (Dense)         (None, 512)               401920    \n",
      "                                                                 \n",
      " second_layer (Dense)        (None, 252)               129276    \n",
      "                                                                 \n",
      " output_layer (Dense)        (None, 10)                2530      \n",
      "                                                                 \n",
      "=================================================================\n"
     ]
    },
    {
     "name": "stdout",
     "output_type": "stream",
     "text": [
      "Total params: 533,726\n",
      "Trainable params: 533,726\n",
      "Non-trainable params: 0\n",
      "_________________________________________________________________\n",
      "None\n",
      "Epoch 1/5\n",
      "1875/1875 - 9s - loss: 0.1872 - accuracy: 0.9428 - 9s/epoch - 5ms/step\n",
      "Epoch 2/5\n",
      "1875/1875 - 8s - loss: 0.0819 - accuracy: 0.9745 - 8s/epoch - 4ms/step\n",
      "Epoch 3/5\n",
      "1875/1875 - 8s - loss: 0.0554 - accuracy: 0.9825 - 8s/epoch - 4ms/step\n",
      "Epoch 4/5\n",
      "1875/1875 - 8s - loss: 0.0431 - accuracy: 0.9862 - 8s/epoch - 4ms/step\n",
      "Epoch 5/5\n",
      "1875/1875 - 8s - loss: 0.0328 - accuracy: 0.9894 - 8s/epoch - 4ms/step\n",
      "313/313 - 1s - loss: 0.0733 - accuracy: 0.9811 - 745ms/epoch - 2ms/step\n"
     ]
    },
    {
     "data": {
      "text/plain": [
       "[0.07334496825933456, 0.9811000227928162]"
      ]
     },
     "execution_count": 45,
     "metadata": {},
     "output_type": "execute_result"
    }
   ],
   "source": [
    "# functional Api (is bit more flexible)\n",
    "my_inputs=keras.Input(shape=(784))\n",
    "x=layers.Dense(512,activation='relu',name=\"first_layer\")(my_inputs)\n",
    "x=layers.Dense(252,activation='relu',name=\"second_layer\")(x)\n",
    "my_outputs=layers.Dense(10,activation='softmax',name=\"output_layer\")(x)\n",
    "model=keras.Model(inputs=my_inputs,outputs=my_outputs)\n",
    "\n",
    "print(model.summary())\n",
    "model.compile(\n",
    "    loss=keras.losses.SparseCategoricalCrossentropy(from_logits=False),#here we had use somtmax\n",
    "    # now define the optimizer\n",
    "    optimizer=keras.optimizers.Adam(learning_rate=0.001),\n",
    "    metrics=[\"accuracy\"],\n",
    ")\n",
    "# model.fit is kind of concrit trainning of that network\n",
    "model.fit(x_train,y_train,batch_size=32,epochs=5,verbose=2)\n",
    "model.evaluate(x_test,y_test,batch_size=32,verbose=2)"
   ]
  },
  {
   "cell_type": "code",
   "execution_count": null,
   "metadata": {},
   "outputs": [],
   "source": []
  }
 ],
 "metadata": {
  "kernelspec": {
   "display_name": "DeepVenv",
   "language": "python",
   "name": "python3"
  },
  "language_info": {
   "codemirror_mode": {
    "name": "ipython",
    "version": 3
   },
   "file_extension": ".py",
   "mimetype": "text/x-python",
   "name": "python",
   "nbconvert_exporter": "python",
   "pygments_lexer": "ipython3",
   "version": "3.11.0"
  },
  "orig_nbformat": 4
 },
 "nbformat": 4,
 "nbformat_minor": 2
}
