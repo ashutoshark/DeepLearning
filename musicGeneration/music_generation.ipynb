{
 "cells": [
  {
   "cell_type": "code",
   "execution_count": 1,
   "metadata": {},
   "outputs": [
    {
     "name": "stdout",
     "output_type": "stream",
     "text": [
      "Requirement already satisfied: mitdeeplearning in d:\\deeplearning\\deepvenv\\lib\\site-packages (0.3.0)\n",
      "Requirement already satisfied: numpy in d:\\deeplearning\\deepvenv\\lib\\site-packages (from mitdeeplearning) (1.24.3)\n",
      "Requirement already satisfied: regex in d:\\deeplearning\\deepvenv\\lib\\site-packages (from mitdeeplearning) (2023.6.3)\n",
      "Requirement already satisfied: tqdm in d:\\deeplearning\\deepvenv\\lib\\site-packages (from mitdeeplearning) (4.65.0)\n",
      "Requirement already satisfied: gym in d:\\deeplearning\\deepvenv\\lib\\site-packages (from mitdeeplearning) (0.26.2)\n",
      "Requirement already satisfied: cloudpickle>=1.2.0 in d:\\deeplearning\\deepvenv\\lib\\site-packages (from gym->mitdeeplearning) (2.2.1)\n",
      "Requirement already satisfied: gym-notices>=0.0.4 in d:\\deeplearning\\deepvenv\\lib\\site-packages (from gym->mitdeeplearning) (0.0.8)\n",
      "Requirement already satisfied: colorama in d:\\deeplearning\\deepvenv\\lib\\site-packages (from tqdm->mitdeeplearning) (0.4.6)\n",
      "Note: you may need to restart the kernel to use updated packages.\n"
     ]
    }
   ],
   "source": [
    "\n",
    "import tensorflow as tf\n",
    "%pip install mitdeeplearning \n",
    "import mitdeeplearning as mdl\n",
    "import numpy as np\n",
    "import time \n",
    "import os\n",
    "import functools\n",
    "from IPython import display as ipythondisplay\n",
    "from tqdm import tqdm\n",
    "\n",
    "# assert len(tf.config.list_physical_devices('GPU'))>0\n"
   ]
  },
  {
   "cell_type": "code",
   "execution_count": 31,
   "metadata": {},
   "outputs": [],
   "source": [
    "# %apt-get install abcmidi timidity > /dev/null 2>&1"
   ]
  },
  {
   "cell_type": "code",
   "execution_count": 65,
   "metadata": {},
   "outputs": [
    {
     "name": "stdout",
     "output_type": "stream",
     "text": [
      "Found 817 songs in text\n",
      "X:1\n",
      "T:Alexander's\n",
      "Z: id:dc-hornpipe-1\n",
      "M:C|\n",
      "L:1/8\n",
      "K:D Major\n",
      "(3ABc|dAFA DFAd|fdcd FAdf|gfge fefd|(3efe (3dcB A2 (3ABc|!\n",
      "dAFA DFAd|fdcd FAdf|gfge fefd|(3efe dc d2:|!\n",
      "AG|FAdA FAdA|GBdB GBdB|Acec Acec|dfaf gecA|!\n",
      "FAdA FAdA|GBdB GBdB|Aceg fefd|(3efe dc d2:|!\n"
     ]
    }
   ],
   "source": [
    "# now download the data set\n",
    "songs=mdl.lab1.load_training_data()\n",
    "\n",
    "# print one of the song and inspect the details\n",
    "example_song=songs[0]\n",
    "print(example_song)"
   ]
  },
  {
   "cell_type": "code",
   "execution_count": 64,
   "metadata": {},
   "outputs": [],
   "source": [
    "# now convet into playable in system rather than abc notation\n",
    "mdl.lab1.play_song(example_song)"
   ]
  },
  {
   "cell_type": "code",
   "execution_count": 5,
   "metadata": {},
   "outputs": [
    {
     "name": "stdout",
     "output_type": "stream",
     "text": [
      "there are 83 unique characters in the dataset\n"
     ]
    }
   ],
   "source": [
    "# now our list of song into a single string containing all songs\n",
    "songs_joined=\"\\n\\n\".join(songs)\n",
    "\n",
    "# find all unique character in the joined string\n",
    "vocab=sorted(set(songs_joined))\n",
    "print(\"there are\",len(vocab),\"unique characters in the dataset\")"
   ]
  },
  {
   "cell_type": "markdown",
   "metadata": {},
   "source": [
    "now we need to crate a numerical representation of our text-based dataset\n",
    "To do this, we will generate two lookup table that map charToNum and other is NumToChar\n"
   ]
  },
  {
   "cell_type": "code",
   "execution_count": 6,
   "metadata": {},
   "outputs": [],
   "source": [
    "# define numerical representaion of text\n",
    "# mapping from char to unique index\n",
    "# to get index of char d \n",
    "# we need char2idx[d]\n",
    "char2idx={\n",
    "    u:i for i ,u in enumerate(vocab)\n",
    "}\n",
    "\n",
    "# create mapping form indices to char\n",
    "# form unique indices to char in our vocb\n",
    "idx2char=np.array(vocab)\n"
   ]
  },
  {
   "cell_type": "code",
   "execution_count": 7,
   "metadata": {},
   "outputs": [
    {
     "name": "stdout",
     "output_type": "stream",
     "text": [
      "{\n",
      "'\\n':   0,\n",
      "' ':   1,\n",
      "'!':   2,\n",
      "'\"':   3,\n",
      "'#':   4,\n",
      "\"'\":   5,\n",
      "'(':   6,\n",
      "')':   7,\n",
      "',':   8,\n",
      "'-':   9,\n",
      "'.':  10,\n",
      "'/':  11,\n",
      "'0':  12,\n",
      "'1':  13,\n",
      "'2':  14,\n",
      "'3':  15,\n",
      "'4':  16,\n",
      "'5':  17,\n",
      "'6':  18,\n",
      "'7':  19,\n",
      "....\n",
      "\n"
     ]
    }
   ],
   "source": [
    "# lets peek this numerical repersentation of our dataset\n",
    "print(\"{\")\n",
    "for char,_ in zip(char2idx,range(20)):\n",
    "    print('{:3s}: {:3d},'.format(repr(char),char2idx[char]))\n",
    "print('....\\n')    "
   ]
  },
  {
   "cell_type": "code",
   "execution_count": 8,
   "metadata": {},
   "outputs": [],
   "source": [
    "# now vectorize the songs string\n",
    "def vectorize_string(string):\n",
    "    vectorized_output=np.array([char2idx[char] for char in string])\n",
    "    return vectorized_output\n",
    "vectorized_songs=vectorize_string(songs_joined)"
   ]
  },
  {
   "cell_type": "code",
   "execution_count": 9,
   "metadata": {},
   "outputs": [
    {
     "name": "stdout",
     "output_type": "stream",
     "text": [
      "\"X:1\\nT:Alexander's\\nZ: id:dc-hornpipe-1\\nM:C|\\nL:1/8\\nK:D Major\\n(3ABc|dAFA DFAd|fdcd FAdf|gfge fefd|(3efe\"-----char mapped to int --->[49 22 13  0 45 22 26 67 60 79 56 69 59 60 73  5 74  0 51 22  1 64 59 22\n",
      " 59 58  9 63 70 73 69 71 64 71 60  9 13  0 38 22 28 82  0 37 22 13 11 20\n",
      "  0 36 22 29  1 38 56 65 70 73  0  6 15 26 27 58 82 59 26 31 26  1 29 31\n",
      " 26 59 82 61 59 58 59  1 31 26 59 61 82 62 61 62 60  1 61 60 61 59 82  6\n",
      " 15 60 61 60]\n"
     ]
    }
   ],
   "source": [
    "# now look at how the first part of the text is mapped to an integer represntaion\n",
    "print('{}-----char mapped to int --->{}'.format(repr(songs_joined[:100]),vectorized_songs[:100]))\n",
    "assert isinstance(vectorized_songs,np.ndarray),\"return should be a numpy array\""
   ]
  },
  {
   "cell_type": "code",
   "execution_count": 10,
   "metadata": {},
   "outputs": [
    {
     "name": "stdout",
     "output_type": "stream",
     "text": [
      "[PASS] test_batch_func_types\n",
      "[PASS] test_batch_func_shapes\n",
      "[PASS] test_batch_func_next_step\n",
      "========\n",
      "[pass] pass the test\n"
     ]
    }
   ],
   "source": [
    "# now we will break text into chunks of seq_len+1. suppose seq_lenght is 4 and out text is hello\n",
    "# then out input seq is hell and target sequence ie ello\n",
    "# batch definition  to creat trainning examlple\n",
    "def get_batch(vectorized_songs,seq_length,batch_size):\n",
    "    # length of the vectorize songs string\n",
    "    n=vectorized_songs.shape[0] -1\n",
    "    # randomly choose the statring indices for the examples in the training batch\n",
    "    idx=np.random.choice(n-seq_length,batch_size)\n",
    "    # construct a list of input squence for training batch\n",
    "    input_batch=[vectorized_songs[i:i+seq_length] for i in idx]\n",
    "    # construct a list of output sequecees for the training batch\n",
    "    output_batch=[vectorized_songs[i+1:i+seq_length+1] for i in idx]\n",
    "     \n",
    "    # x_batch  and y_batch provied  the true input and target for the network of training\n",
    "    x_batch=np.reshape(input_batch,[batch_size,seq_length])\n",
    "    y_batch=np.reshape(output_batch,[batch_size,seq_length])\n",
    "    return x_batch,y_batch\n",
    "# perform some simple tests to make sure your batch fxn working properly\n",
    "test_args=(vectorized_songs,10,2)\n",
    "if  not mdl.lab1.test_batch_func_types(get_batch,test_args) or \\\n",
    "    not mdl.lab1.test_batch_func_shapes(get_batch,test_args) or \\\n",
    "    not mdl.lab1.test_batch_func_next_step(get_batch,test_args):\n",
    "    print(\"=======\\n[fail] could not pass the test\")\n",
    "else:\n",
    "    print(\"========\\n[pass] pass the test\")\n",
    "\n"
   ]
  },
  {
   "cell_type": "code",
   "execution_count": 11,
   "metadata": {},
   "outputs": [
    {
     "name": "stdout",
     "output_type": "stream",
     "text": [
      "steps  0\n",
      "input:[29 31 82  2  0]  (array(['D', 'F', '|', '!', '\\n'], dtype='<U1'))\n",
      "expected output:[31 82  2  0 30] (array(['F', '|', '!', '\\n', 'E'], dtype='<U1'))\n",
      "steps  1\n",
      "input:[58  9 63 70 73]  (array(['c', '-', 'h', 'o', 'r'], dtype='<U1'))\n",
      "expected output:[ 9 63 70 73 69] (array(['-', 'h', 'o', 'r', 'n'], dtype='<U1'))\n",
      "steps  2\n",
      "input:[ 1 32 14 26 82]  (array([' ', 'G', '2', 'A', '|'], dtype='<U1'))\n",
      "expected output:[32 14 26 82 27] (array(['G', '2', 'A', '|', 'B'], dtype='<U1'))\n"
     ]
    }
   ],
   "source": [
    "x_batch,y_batch=get_batch(vectorized_songs,seq_length=5,batch_size=3)\n",
    "for i,(input_idx ,target_idx) in enumerate (zip(np.squeeze(x_batch),np.squeeze(y_batch))):\n",
    "    print(\"steps{:3d}\".format(i))\n",
    "    print(\"input:{}  ({:s})\".format(input_idx,repr(idx2char[input_idx])))\n",
    "    print(\"expected output:{} ({:s})\".format(target_idx,repr(idx2char[target_idx])))"
   ]
  },
  {
   "cell_type": "markdown",
   "metadata": {},
   "source": [
    "now define the RNN model"
   ]
  },
  {
   "cell_type": "code",
   "execution_count": 16,
   "metadata": {},
   "outputs": [],
   "source": [
    "def LSTM(rnn_units):\n",
    "    return tf.keras.layers.LSTM(\n",
    "        rnn_units,\n",
    "        return_sequences=True,\n",
    "        recurrent_initializer='glorot_uniform',\n",
    "        recurrent_activation='sigmoid',\n",
    "        stateful=True,\n",
    "    )"
   ]
  },
  {
   "cell_type": "code",
   "execution_count": 19,
   "metadata": {},
   "outputs": [],
   "source": [
    "# define rnn model \n",
    "# add LSTM and Dense layers to define the rnn model using the sequential api\n",
    "def build_model(vocab_size, embedding_dim, rnn_units, batch_size):\n",
    "    model=tf.keras.Sequential([\n",
    "    # layer1: embedding layer to transform indices into dense vectors\n",
    "    # of a fixed embedding size\n",
    "    tf.keras.layers.Embedding(vocab_size,embedding_dim,batch_input_shape=[batch_size,None]),\n",
    "    # layer2:LSTM with `rnn_units `number of units\n",
    "    # call the function defined above to add this layer.\n",
    "    LSTM(rnn_units),\n",
    "    # layer3: Dense (fully_connected) layer that tranform the lstm output into the vocabulary size.\n",
    "    # Add the dense layer\n",
    "    tf.keras.layers.Dense(vocab_size)\n",
    "    ])\n",
    "\n",
    "    return model\n",
    "# build a simple model with default hyperparmeter \n",
    "# we will get the chance to change these later\n",
    "model=build_model(len(vocab),embedding_dim=256,rnn_units=1024,batch_size=32)"
   ]
  },
  {
   "cell_type": "code",
   "execution_count": 20,
   "metadata": {},
   "outputs": [
    {
     "name": "stdout",
     "output_type": "stream",
     "text": [
      "Model: \"sequential_2\"\n",
      "_________________________________________________________________\n",
      " Layer (type)                Output Shape              Param #   \n",
      "=================================================================\n",
      " embedding_4 (Embedding)     (32, None, 256)           21248     \n",
      "                                                                 \n",
      " lstm_2 (LSTM)               (32, None, 1024)          5246976   \n",
      "                                                                 \n",
      " dense_2 (Dense)             (32, None, 83)            85075     \n",
      "                                                                 \n",
      "=================================================================\n",
      "Total params: 5,353,299\n",
      "Trainable params: 5,353,299\n",
      "Non-trainable params: 0\n",
      "_________________________________________________________________\n"
     ]
    }
   ],
   "source": [
    "model.summary()"
   ]
  },
  {
   "cell_type": "code",
   "execution_count": 21,
   "metadata": {},
   "outputs": [
    {
     "name": "stdout",
     "output_type": "stream",
     "text": [
      "input shape: (32, 100) (bactch_size,sequence_length)\n",
      "prediction shape:  (32, 100, 83) (batch_size,sequence_length,vocab_size)\n"
     ]
    }
   ],
   "source": [
    "# we can quickly check the dimensionality of our output using a sequence length of 100\n",
    "# note that model can run on any input length\n",
    "x,y=get_batch(vectorized_songs,seq_length=100,batch_size=32)\n",
    "pred=model(x)\n",
    "print(\"input shape:\",x.shape,\"(bactch_size,sequence_length)\")\n",
    "print(\"prediction shape: \",pred.shape,\"(batch_size,sequence_length,vocab_size)\")"
   ]
  },
  {
   "cell_type": "markdown",
   "metadata": {},
   "source": [
    "prediction from ustained model"
   ]
  },
  {
   "cell_type": "code",
   "execution_count": 24,
   "metadata": {},
   "outputs": [
    {
     "data": {
      "text/plain": [
       "array([68, 15, 13,  7, 55,  2, 48, 81, 81, 66, 73, 29,  0, 80, 69, 76, 46,\n",
       "       19, 30, 12, 42,  8,  0,  7, 64, 72, 11, 80, 37, 63, 29, 19, 14, 33,\n",
       "       31, 13, 10, 39, 15, 56, 50, 43, 30, 56, 75, 34, 23,  5, 30, 27,  1,\n",
       "       55, 44, 26, 30, 64, 34, 31, 21, 26, 12, 61, 82, 64, 69, 58, 72, 49,\n",
       "        9, 59, 38, 53, 75, 82,  9,  3, 14, 15, 76, 38, 33, 36, 12, 69, 74,\n",
       "       55, 72, 25,  8, 15, 65, 82, 23, 37, 44, 42, 62,  5, 10, 19],\n",
       "      dtype=int64)"
      ]
     },
     "execution_count": 24,
     "metadata": {},
     "output_type": "execute_result"
    }
   ],
   "source": [
    "sampled_indices=tf.random.categorical(pred[0],num_samples=1)\n",
    "sampled_indices=tf.squeeze(sampled_indices,axis=-1).numpy()\n",
    "sampled_indices"
   ]
  },
  {
   "cell_type": "code",
   "execution_count": 27,
   "metadata": {},
   "outputs": [
    {
     "name": "stdout",
     "output_type": "stream",
     "text": [
      "input:\n",
      " 'c A | f e d   c B A | d e f   g f g | B c B   B e d | ! \\n c B A   e c A | f e d   c B A | c 2 c   d B e | A B A   A : | ! \\n f g | a g f   g f e | f e d   c B A | d e f   g f g | B c B   B f g | ! \\n a'\n",
      "\n",
      "next char pridictions :\n",
      " 'm 3 1 ) _ ! W z z k r D \\n y n u U 7 E 0 Q , \\n ) i q / y L h D 7 2 H F 1 . N 3 a Y R E a t I < \\' E B   _ S A E i I F 9 A 0 f | i n c q X - d M ] t | - \" 2 3 u M H K 0 n s _ q > , 3 j | < L S Q g \\' . 7'\n"
     ]
    }
   ],
   "source": [
    "# we can now decode these to see the text predicted by the untrained model:\n",
    "print(\"input:\\n\",repr(\" \".join(idx2char[x[0]])))\n",
    "print()\n",
    "print(\"next char pridictions :\\n\",repr(\" \".join(idx2char[sampled_indices])))"
   ]
  },
  {
   "cell_type": "markdown",
   "metadata": {},
   "source": [
    "Training the model:loss and trainig operations"
   ]
  },
  {
   "cell_type": "code",
   "execution_count": 34,
   "metadata": {},
   "outputs": [
    {
     "name": "stdout",
     "output_type": "stream",
     "text": [
      "prediction shape: (32, 100, 83) (batch_size,sequence_length,vocab_size)\n",
      "scalar_loss: 4.4195256\n"
     ]
    }
   ],
   "source": [
    "# defing the loss function\n",
    "# # define the loss function to compute and return the loss between \n",
    "# #the tur lables and predictions(logits).set the argument from_logits=True\n",
    "def compute_loss(labels,logits):\n",
    "    loss=tf.keras.losses.sparse_categorical_crossentropy(labels,logits,from_logits=True)\n",
    "    return loss\n",
    "# compute the loss using the true next char form the example batch \n",
    "example_batch_loss=compute_loss(y,pred)\n",
    "\n",
    "print(\"prediction shape:\",pred.shape,\"(batch_size,sequence_length,vocab_size)\")\n",
    "print(\"scalar_loss:\",example_batch_loss.numpy().mean())"
   ]
  },
  {
   "cell_type": "code",
   "execution_count": 38,
   "metadata": {},
   "outputs": [],
   "source": [
    "# hyperparmeter setting and optimization\n",
    "# optimization parameters:\n",
    "num_training_iteration=2000 #increase this to train longer\n",
    "batch_size=4 # Experiment between 1 and 64\n",
    "seq_lenght=100#experiment between 50 and 500\n",
    "learning_rate=5e-3#experiment between 1e-5 and 1e-1\n",
    "\n",
    "# model Parameter:\n",
    "vocab_size=len(vocab)\n",
    "embedding_dim=256\n",
    "rnn_units=1024#Experiment between 1 and 1024\n",
    "\n",
    "# checkpoint location:\n",
    "Checkpoint_dir=\"./training_chekpoints\"\n",
    "Checkpoint_prefix=os.path.join(Checkpoint_dir,\"my_ckpt\")"
   ]
  },
  {
   "cell_type": "code",
   "execution_count": 39,
   "metadata": {},
   "outputs": [],
   "source": [
    "# define optimizer and training operation\n",
    "# todo: instaintiate a new model for training using the build_model\n",
    "# function and the hyperparameters created above\n",
    "model=build_model(vocab_size,embedding_dim,rnn_units,batch_size)\n",
    "# Try using adam optimizer to start\n",
    "optimizer=tf.keras.optimizers.Adam(learning_rate)\n",
    "@tf.function\n",
    "\n",
    "def train_step(x,y):\n",
    "    with tf.GradientTape() as tape:\n",
    "    # use gradient tape\n",
    "    # todo:feed th current input to the model and generate the prediction\n",
    "          y_hat=model(x)\n",
    "    # compute the loss\n",
    "          loss=compute_loss(y,y_hat)\n",
    "    # now compute the gradient\n",
    "    # we want the gradinet of the loss with respect to all the model parameter\n",
    "    grads=tape.gradient(loss,model.trainable_variables)\n",
    "    # apply the gradient to the optimizer so it can update the model accordingly\n",
    "    optimizer.apply_gradients(zip(grads,model.trainable_variables))\n",
    "    return loss "
   ]
  },
  {
   "cell_type": "code",
   "execution_count": 40,
   "metadata": {},
   "outputs": [
    {
     "data": {
      "image/png": "[encoded data removed]",
      "text/plain": [
       "<Figure size 640x480 with 1 Axes>"
      ]
     },
     "metadata": {},
     "output_type": "display_data"
    },
    {
     "name": "stderr",
     "output_type": "stream",
     "text": [
      "100%|██████████| 2000/2000 [55:57<00:00,  1.68s/it]\n"
     ]
    },
    {
     "data": {
      "image/png": "[encoded data removed]",
      "text/plain": [
       "<Figure size 640x480 with 1 Axes>"
      ]
     },
     "metadata": {},
     "output_type": "display_data"
    }
   ],
   "source": [
    "# Begine Training\n",
    "history=[]\n",
    "plotter=mdl.util.PeriodicPlotter(sec=2,xlabel=\"itetation\",ylabel=\"loss\")\n",
    "if hasattr(tqdm,'_instances'):tqdm._instances.clear()\n",
    "for iter in tqdm(range(num_training_iteration)):\n",
    "    # grabe a batch and propagate through the network\n",
    "    x_batch,y_batch=get_batch(vectorized_songs,seq_lenght,batch_size)\n",
    "    loss=train_step(x_batch,y_batch)\n",
    "\n",
    "    # upadate the progress bar\n",
    "    history.append(loss.numpy().mean())\n",
    "    plotter.plot(history)\n",
    "\n",
    "    # update the model with changes weights\n",
    "    if iter %100==0:\n",
    "        model.save_weights(Checkpoint_prefix)\n",
    "        \n",
    "# save the trained model and the weights\n",
    "model.save_weights(Checkpoint_prefix) "
   ]
  },
  {
   "cell_type": "code",
   "execution_count": 41,
   "metadata": {},
   "outputs": [
    {
     "name": "stdout",
     "output_type": "stream",
     "text": [
      "Model: \"sequential_5\"\n",
      "_________________________________________________________________\n",
      " Layer (type)                Output Shape              Param #   \n",
      "=================================================================\n",
      " embedding_7 (Embedding)     (1, None, 256)            21248     \n",
      "                                                                 \n",
      " lstm_5 (LSTM)               (1, None, 1024)           5246976   \n",
      "                                                                 \n",
      " dense_5 (Dense)             (1, None, 83)             85075     \n",
      "                                                                 \n",
      "=================================================================\n",
      "Total params: 5,353,299\n",
      "Trainable params: 5,353,299\n",
      "Non-trainable params: 0\n",
      "_________________________________________________________________\n"
     ]
    }
   ],
   "source": [
    "# Rebuild the model using a batch size=1\n",
    "model=build_model(vocab_size,embedding_dim,rnn_units,batch_size=1)\n",
    "# Restore the model weights for the last checkpoint after training\n",
    "model.load_weights(tf.train.latest_checkpoint(Checkpoint_dir))\n",
    "model.build(tf.TensorShape([1,None]))\n",
    "model.summary()"
   ]
  },
  {
   "cell_type": "code",
   "execution_count": 58,
   "metadata": {},
   "outputs": [],
   "source": [
    "# prediction of a generated song\n",
    "def generate_text(model,start_string,generation_length=1000):\n",
    "    # evaluate step (generating ABC text using learned RNN model)\n",
    "    # convert the start string to number -vectorize\n",
    "    input_eval=[char2idx[s] for s in start_string]\n",
    "    input_eval=tf.expand_dims(input_eval,0)\n",
    "    # empty string to store out result\n",
    "    text_generated=[]\n",
    "    # here batch size is 1\n",
    "    model.reset_states()\n",
    "    tqdm._instances.clear()\n",
    "\n",
    "    for i in tqdm(range(generation_length)):\n",
    "        # evaluate the inputs and generate the next character predictions\n",
    "        predictions=model(input_eval)\n",
    "        # remove the batch dimension\n",
    "        predictions=tf.squeeze(predictions,0)\n",
    "        # use multinomial distribution to to sample\n",
    "        predicted_id=tf.random.categorical(predictions,num_samples=1)[-1,0].numpy()\n",
    "        # pass the prediction along wiht the previous hidden state\n",
    "        # as the next input to the model\n",
    "        input_eval=tf.expand_dims([predicted_id], 0)\n",
    "        # pass the prediction along with the previous hidden state\n",
    "        text_generated.append(idx2char[predicted_id])\n",
    "    return (start_string+''.join(text_generated))    \n",
    "\n",
    "                          "
   ]
  },
  {
   "cell_type": "code",
   "execution_count": 59,
   "metadata": {},
   "outputs": [
    {
     "name": "stderr",
     "output_type": "stream",
     "text": [
      "100%|██████████| 1000/1000 [00:13<00:00, 72.36it/s]\n"
     ]
    }
   ],
   "source": [
    "# use the above function to generate the ABC formate text of length 1000\n",
    "generated_text=generate_text(model,start_string=\"X\",generation_length=1000)\n"
   ]
  },
  {
   "cell_type": "code",
   "execution_count": 63,
   "metadata": {},
   "outputs": [
    {
     "name": "stdout",
     "output_type": "stream",
     "text": [
      "Found 3 songs in text\n"
     ]
    }
   ],
   "source": [
    "# play back generated songs\n",
    "generated_song=mdl.lab1.extract_song_snippet(generated_text)\n",
    "for i,song in enumerate(generated_song):\n",
    "    # synthesize the waveform form a song\n",
    "    waveform=mdl.lab1.play_song(song)\n",
    "    # if its a valid song (correct syntax),lets play it!\n",
    "    if waveform:\n",
    "        print(\"generated song\",i)\n",
    "        ipythondisplay.display(waveform)"
   ]
  },
  {
   "cell_type": "code",
   "execution_count": null,
   "metadata": {},
   "outputs": [],
   "source": []
  }
 ],
 "metadata": {
  "kernelspec": {
   "display_name": "DeepVenv",
   "language": "python",
   "name": "python3"
  },
  "language_info": {
   "codemirror_mode": {
    "name": "ipython",
    "version": 3
   },
   "file_extension": ".py",
   "mimetype": "text/x-python",
   "name": "python",
   "nbconvert_exporter": "python",
   "pygments_lexer": "ipython3",
   "version": "3.11.0"
  },
  "orig_nbformat": 4
 },
 "nbformat": 4,
 "nbformat_minor": 2
}
