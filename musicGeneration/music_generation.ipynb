{
 "cells": [
  {
   "cell_type": "code",
   "execution_count": 2,
   "metadata": {},
   "outputs": [
    {
     "name": "stdout",
     "output_type": "stream",
     "text": [
      "Requirement already satisfied: mitdeeplearning in d:\\deeplearning\\deepvenv\\lib\\site-packages (0.3.0)\n",
      "Requirement already satisfied: numpy in d:\\deeplearning\\deepvenv\\lib\\site-packages (from mitdeeplearning) (1.24.3)\n",
      "Requirement already satisfied: regex in d:\\deeplearning\\deepvenv\\lib\\site-packages (from mitdeeplearning) (2023.6.3)\n",
      "Requirement already satisfied: tqdm in d:\\deeplearning\\deepvenv\\lib\\site-packages (from mitdeeplearning) (4.65.0)\n",
      "Requirement already satisfied: gym in d:\\deeplearning\\deepvenv\\lib\\site-packages (from mitdeeplearning) (0.26.2)\n",
      "Requirement already satisfied: cloudpickle>=1.2.0 in d:\\deeplearning\\deepvenv\\lib\\site-packages (from gym->mitdeeplearning) (2.2.1)\n",
      "Requirement already satisfied: gym-notices>=0.0.4 in d:\\deeplearning\\deepvenv\\lib\\site-packages (from gym->mitdeeplearning) (0.0.8)\n",
      "Requirement already satisfied: colorama in d:\\deeplearning\\deepvenv\\lib\\site-packages (from tqdm->mitdeeplearning) (0.4.6)\n",
      "Note: you may need to restart the kernel to use updated packages.\n"
     ]
    }
   ],
   "source": [
    "\n",
    "import tensorflow as tf\n",
    "%pip install mitdeeplearning \n",
    "import mitdeeplearning as mdl\n",
    "import numpy as np\n",
    "import time \n",
    "import os\n",
    "import functools\n",
    "from IPython import display as ipythondisplay\n",
    "from tqdm import tqdm\n",
    "\n",
    "# assert len(tf.config.list_physical_devices('GPU'))>0\n"
   ]
  },
  {
   "cell_type": "code",
   "execution_count": 3,
   "metadata": {},
   "outputs": [
    {
     "name": "stderr",
     "output_type": "stream",
     "text": [
      "UsageError: Line magic function `%apt-get` not found.\n"
     ]
    }
   ],
   "source": [
    "%apt-get install abcmidi timidity > /dev/null 2>&1"
   ]
  },
  {
   "cell_type": "code",
   "execution_count": 4,
   "metadata": {},
   "outputs": [
    {
     "name": "stdout",
     "output_type": "stream",
     "text": [
      "Found 817 songs in text\n",
      "X:1\n",
      "T:Alexander's\n",
      "Z: id:dc-hornpipe-1\n",
      "M:C|\n",
      "L:1/8\n",
      "K:D Major\n",
      "(3ABc|dAFA DFAd|fdcd FAdf|gfge fefd|(3efe (3dcB A2 (3ABc|!\n",
      "dAFA DFAd|fdcd FAdf|gfge fefd|(3efe dc d2:|!\n",
      "AG|FAdA FAdA|GBdB GBdB|Acec Acec|dfaf gecA|!\n",
      "FAdA FAdA|GBdB GBdB|Aceg fefd|(3efe dc d2:|!\n"
     ]
    }
   ],
   "source": [
    "# now download the data set\n",
    "songs=mdl.lab1.load_training_data()\n",
    "\n",
    "# print one of the song and inspect the details\n",
    "example_song=songs[0]\n",
    "print(example_song)"
   ]
  },
  {
   "cell_type": "code",
   "execution_count": 8,
   "metadata": {},
   "outputs": [],
   "source": [
    "# now convet into playable in system rather than abc notation\n",
    "mdl.lab1.play_song(example_song)"
   ]
  },
  {
   "cell_type": "code",
   "execution_count": 10,
   "metadata": {},
   "outputs": [
    {
     "name": "stdout",
     "output_type": "stream",
     "text": [
      "there are 83 unique characters in the dataset\n"
     ]
    }
   ],
   "source": [
    "# now our list of song into a single string containing all songs\n",
    "songs_joined=\"\\n\\n\".join(songs)\n",
    "\n",
    "# find all unique character in the joined string\n",
    "vocab=sorted(set(songs_joined))\n",
    "print(\"there are\",len(vocab),\"unique characters in the dataset\")"
   ]
  },
  {
   "cell_type": "markdown",
   "metadata": {},
   "source": [
    "now we need to crate a numerical representation of our text-based dataset\n",
    "To do this, we will generate two lookup table that map charToNum and other is NumToChar\n"
   ]
  },
  {
   "cell_type": "code",
   "execution_count": 11,
   "metadata": {},
   "outputs": [],
   "source": [
    "# define numerical representaion of text\n",
    "# mapping from char to unique index\n",
    "# to get index of char d \n",
    "# we need char2idx[d]\n",
    "char2idx={\n",
    "    u:i for i ,u in enumerate(vocab)\n",
    "}\n",
    "\n",
    "# create mapping form indices to char\n",
    "# form unique indices to char in our vocb\n",
    "idx2char=np.array(vocab)\n"
   ]
  },
  {
   "cell_type": "code",
   "execution_count": 16,
   "metadata": {},
   "outputs": [
    {
     "name": "stdout",
     "output_type": "stream",
     "text": [
      "{\n",
      "'\\n':   0,\n",
      "' ':   1,\n",
      "'!':   2,\n",
      "'\"':   3,\n",
      "'#':   4,\n",
      "\"'\":   5,\n",
      "'(':   6,\n",
      "')':   7,\n",
      "',':   8,\n",
      "'-':   9,\n",
      "'.':  10,\n",
      "'/':  11,\n",
      "'0':  12,\n",
      "'1':  13,\n",
      "'2':  14,\n",
      "'3':  15,\n",
      "'4':  16,\n",
      "'5':  17,\n",
      "'6':  18,\n",
      "'7':  19,\n",
      "....\n",
      "\n"
     ]
    }
   ],
   "source": [
    "# lets peek this numerical repersentation of our dataset\n",
    "print(\"{\")\n",
    "for char,_ in zip(char2idx,range(20)):\n",
    "    print('{:3s}: {:3d},'.format(repr(char),char2idx[char]))\n",
    "print('....\\n')    "
   ]
  },
  {
   "cell_type": "code",
   "execution_count": 17,
   "metadata": {},
   "outputs": [],
   "source": [
    "# now vectorize the songs string\n",
    "def vectorize_string(string):\n",
    "    vectorized_output=np.array([char2idx[char] for char in string])\n",
    "    return vectorized_output\n",
    "vectorized_songs=vectorize_string(songs_joined)"
   ]
  },
  {
   "cell_type": "code",
   "execution_count": 27,
   "metadata": {},
   "outputs": [
    {
     "name": "stdout",
     "output_type": "stream",
     "text": [
      "\"X:1\\nT:Alexander's\\nZ: id:dc-hornpipe-1\\nM:C|\\nL:1/8\\nK:D Major\\n(3ABc|dAFA DFAd|fdcd FAdf|gfge fefd|(3efe\"-----char mapped to int --->[49 22 13  0 45 22 26 67 60 79 56 69 59 60 73  5 74  0 51 22  1 64 59 22\n",
      " 59 58  9 63 70 73 69 71 64 71 60  9 13  0 38 22 28 82  0 37 22 13 11 20\n",
      "  0 36 22 29  1 38 56 65 70 73  0  6 15 26 27 58 82 59 26 31 26  1 29 31\n",
      " 26 59 82 61 59 58 59  1 31 26 59 61 82 62 61 62 60  1 61 60 61 59 82  6\n",
      " 15 60 61 60]\n"
     ]
    }
   ],
   "source": [
    "# now look at how the first part of the text is mapped to an integer represntaion\n",
    "print('{}-----char mapped to int --->{}'.format(repr(songs_joined[:100]),vectorized_songs[:100]))\n",
    "assert isinstance(vectorized_songs,np.ndarray),\"return should be a numpy array\""
   ]
  },
  {
   "cell_type": "code",
   "execution_count": 32,
   "metadata": {},
   "outputs": [
    {
     "name": "stdout",
     "output_type": "stream",
     "text": [
      "[PASS] test_batch_func_types\n",
      "[PASS] test_batch_func_shapes\n",
      "[PASS] test_batch_func_next_step\n",
      "========\n",
      "[pass] pass the test\n"
     ]
    }
   ],
   "source": [
    "# now we will break text into chunks of seq_len+1. suppose seq_lenght is 4 and out text is hello\n",
    "# then out input seq is hell and target sequence ie ello\n",
    "# batch definition  to creat trainning examlple\n",
    "def get_batch(vectorized_songs,seq_length,batch_size):\n",
    "    # length of the vectorize songs string\n",
    "    n=vectorized_songs.shape[0] -1\n",
    "    # randomly choose the statring indices for the examples in the training batch\n",
    "    idx=np.random.choice(n-seq_length,batch_size)\n",
    "    # construct a list of input squence for training batch\n",
    "    input_batch=[vectorized_songs[i:i+seq_length] for i in idx]\n",
    "    # construct a list of output sequecees for the training batch\n",
    "    output_batch=[vectorized_songs[i+1:i+seq_length+1] for i in idx]\n",
    "     \n",
    "    # x_batch  and y_batch provied  the true input and target for the network of training\n",
    "    x_batch=np.reshape(input_batch,[batch_size,seq_length])\n",
    "    y_batch=np.reshape(output_batch,[batch_size,seq_length])\n",
    "    return x_batch,y_batch\n",
    "# perform some simple tests to make sure your batch fxn working properly\n",
    "test_args=(vectorized_songs,10,2)\n",
    "if  not mdl.lab1.test_batch_func_types(get_batch,test_args) or \\\n",
    "    not mdl.lab1.test_batch_func_shapes(get_batch,test_args) or \\\n",
    "    not mdl.lab1.test_batch_func_next_step(get_batch,test_args):\n",
    "    print(\"=======\\n[fail] could not pass the test\")\n",
    "else:\n",
    "    print(\"========\\n[pass] pass the test\")\n",
    "\n"
   ]
  },
  {
   "cell_type": "code",
   "execution_count": null,
   "metadata": {},
   "outputs": [],
   "source": []
  }
 ],
 "metadata": {
  "kernelspec": {
   "display_name": "DeepVenv",
   "language": "python",
   "name": "python3"
  },
  "language_info": {
   "codemirror_mode": {
    "name": "ipython",
    "version": 3
   },
   "file_extension": ".py",
   "mimetype": "text/x-python",
   "name": "python",
   "nbconvert_exporter": "python",
   "pygments_lexer": "ipython3",
   "version": "3.11.0"
  },
  "orig_nbformat": 4
 },
 "nbformat": 4,
 "nbformat_minor": 2
}
