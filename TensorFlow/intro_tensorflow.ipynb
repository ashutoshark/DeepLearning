{
 "cells": [
  {
   "cell_type": "markdown",
   "metadata": {},
   "source": [
    "importing some important lib"
   ]
  },
  {
   "cell_type": "code",
   "execution_count": 53,
   "metadata": {},
   "outputs": [],
   "source": [
    "import tensorflow as tf\n",
    "import mitdeeplearning as mld\n",
    "import numpy as np\n",
    "import matplotlib.pyplot as plt\n"
   ]
  },
  {
   "cell_type": "code",
   "execution_count": 39,
   "metadata": {},
   "outputs": [
    {
     "name": "stdout",
     "output_type": "stream",
     "text": [
      "`sport` is a <bound method _EagerTensorBase.numpy of <tf.Tensor: shape=(), dtype=int32, numpy=0>>-d Tensor\n",
      "`number`is a <bound method _EagerTensorBase.numpy of <tf.Tensor: shape=(), dtype=int32, numpy=0>>-d Tensor\n"
     ]
    }
   ],
   "source": [
    "sport=tf.constant(\"Tennis\",tf.string)\n",
    "number=tf.constant(1.234345343,tf.float64)\n",
    "print(\"`sport` is a {}-d Tensor\".format(tf.rank(sport).numpy))\n",
    "print(\"`number`is a {}-d Tensor\".format(tf.rank(number).numpy))"
   ]
  },
  {
   "cell_type": "markdown",
   "metadata": {},
   "source": [
    "vector and list can be used as 1-d tensor\n"
   ]
  },
  {
   "cell_type": "code",
   "execution_count": 40,
   "metadata": {},
   "outputs": [
    {
     "name": "stdout",
     "output_type": "stream",
     "text": [
      "`sport1` is a <bound method _EagerTensorBase.numpy of <tf.Tensor: shape=(), dtype=int32, numpy=1>>-d Tensor\n",
      "`number1`is a <bound method _EagerTensorBase.numpy of <tf.Tensor: shape=(), dtype=int32, numpy=1>>-d Tensor\n"
     ]
    }
   ],
   "source": [
    "sport1=tf.constant([\"tennis\",\"football\"],tf.string)\n",
    "number1=tf.constant([1.234444544,5.354457876,6.987868775765],tf.float32)\n",
    "print(\"`sport1` is a {}-d Tensor\".format(tf.rank(sport1).numpy))\n",
    "print(\"`number1`is a {}-d Tensor\".format(tf.rank(number1).numpy))\n"
   ]
  },
  {
   "cell_type": "code",
   "execution_count": 41,
   "metadata": {},
   "outputs": [],
   "source": [
    "matrix=tf.constant([[1,2,3],[1,2,3],[1,2,3]],tf.int64)\n",
    "# print(\"`matrix`is a {}-d Tensor\".format(tf.rank(matrix).numpy))\n",
    "assert isinstance(matrix,tf.Tensor)\n",
    "assert tf.rank(matrix).numpy()==2\n"
   ]
  },
  {
   "cell_type": "code",
   "execution_count": 42,
   "metadata": {},
   "outputs": [],
   "source": [
    "# creating 4-D also known as rank-4 tensor\n",
    "image=tf.zeros([10,256,256,3])\n",
    "assert isinstance(image,tf.Tensor)\n",
    "assert tf.rank(image).numpy()==4\n",
    "assert tf.shape(image).numpy().tolist()==[10,256,256,3]\n"
   ]
  },
  {
   "cell_type": "code",
   "execution_count": 43,
   "metadata": {},
   "outputs": [
    {
     "name": "stdout",
     "output_type": "stream",
     "text": [
      "row_vector\n",
      "col_vector\n",
      "scalar\n",
      "tf.Tensor(2, shape=(), dtype=int64)\n"
     ]
    }
   ],
   "source": [
    "row_vector=matrix[1]\n",
    "col_vector=matrix[:1]\n",
    "scalar=matrix[0,1]\n",
    "print(\"row_vector\".format(row_vector.numpy()))\n",
    "print(\"col_vector\".format(col_vector.numpy()))\n",
    "print(\"scalar\".format(scalar.numpy()))\n",
    "print(scalar)"
   ]
  },
  {
   "cell_type": "code",
   "execution_count": 44,
   "metadata": {},
   "outputs": [
    {
     "name": "stdout",
     "output_type": "stream",
     "text": [
      "tf.Tensor(51, shape=(), dtype=int32)\n",
      "tf.Tensor(51, shape=(), dtype=int32)\n"
     ]
    }
   ],
   "source": [
    "# compuation on Tensor\n",
    "# crate the node and initialize values\n",
    "a=tf.constant(12)\n",
    "b=tf.constant(39)\n",
    "c1=tf.add(a,b)\n",
    "c2=a+b\n",
    "print(c1)\n",
    "print(c2)"
   ]
  },
  {
   "cell_type": "code",
   "execution_count": 45,
   "metadata": {},
   "outputs": [
    {
     "name": "stdout",
     "output_type": "stream",
     "text": [
      "tf.Tensor(42, shape=(), dtype=int32)\n"
     ]
    }
   ],
   "source": [
    "\n",
    "def fun(a,b):\n",
    "    c=tf.add(a,b)\n",
    "    d=tf.subtract(b,1)\n",
    "    e=tf.multiply(c,d)\n",
    "    return e\n",
    "e_out=fun(10,4)\n",
    "print(e_out)"
   ]
  },
  {
   "cell_type": "code",
   "execution_count": 46,
   "metadata": {},
   "outputs": [
    {
     "name": "stdout",
     "output_type": "stream",
     "text": [
      "tf.Tensor(10.0, shape=(), dtype=float32)\n",
      "tf.Tensor([1 0], shape=(2,), dtype=int64)\n",
      "tf.Tensor(\n",
      "[[2.6894143e-01 7.3105860e-01]\n",
      " [9.9987662e-01 1.2339458e-04]], shape=(2, 2), dtype=float32)\n"
     ]
    }
   ],
   "source": [
    "c = tf.constant([[4.0, 5.0], [10.0, 1.0]])\n",
    "\n",
    "# Find the largest value\n",
    "print(tf.reduce_max(c))\n",
    "# Find the index of the largest value\n",
    "print(tf.math.argmax(c))\n",
    "# Compute the softmax\n",
    "print(tf.nn.softmax(c))"
   ]
  },
  {
   "cell_type": "markdown",
   "metadata": {},
   "source": [
    "Neural network in TensorFlow"
   ]
  },
  {
   "cell_type": "code",
   "execution_count": 57,
   "metadata": {},
   "outputs": [
    {
     "name": "stdout",
     "output_type": "stream",
     "text": [
      "[[0.95430094 0.1759124  0.05156917]]\n"
     ]
    },
    {
     "ename": "AttributeError",
     "evalue": "module 'mitdeeplearning' has no attribute 'lab1'",
     "output_type": "error",
     "traceback": [
      "\u001b[1;31m---------------------------------------------------------------------------\u001b[0m",
      "\u001b[1;31mAttributeError\u001b[0m                            Traceback (most recent call last)",
      "Cell \u001b[1;32mIn[57], line 29\u001b[0m\n\u001b[0;32m     27\u001b[0m \u001b[39m# test the output\u001b[39;00m\n\u001b[0;32m     28\u001b[0m \u001b[39mprint\u001b[39m(Y\u001b[39m.\u001b[39mnumpy())\n\u001b[1;32m---> 29\u001b[0m mld\u001b[39m.\u001b[39;49mlab1\u001b[39m.\u001b[39mtest_custom_dense_layer_output(Y)\n",
      "\u001b[1;31mAttributeError\u001b[0m: module 'mitdeeplearning' has no attribute 'lab1'"
     ]
    }
   ],
   "source": [
    "# definign a network layer\n",
    "# n_output_node->number of output nodes\n",
    "# input_shape->shape of the input\n",
    "# x->input to the layer\n",
    "class OurDenseLayer(tf.keras.layers.Layer):\n",
    "    def __init__(self,n_output_nodes):\n",
    "      super(OurDenseLayer,self).__init__()\n",
    "      self.n_output_nodes=n_output_nodes\n",
    "    \n",
    "    def build(self,input_shape):\n",
    "       d=int(input_shape[-1])\n",
    "    #define and initialize parameters: a weight matrix W and bias b\n",
    "    # not that parameter initialization is random!    \n",
    "       self.W=self.add_weight(\"weight\",shape=[d, self.n_output_nodes])#note the dimensionality\n",
    "       self.b=self.add_weight(\"bias\",shape=[1,self.n_output_nodes])#note the dimensionality\n",
    "    def call(self,x):\n",
    "       z=tf.matmul(x,self.W)+self.b #(Wx+b)\n",
    "       Y=tf.sigmoid(z) #Y_out=Sfxn(Wx+b)\n",
    "       return Y\n",
    "    \n",
    "    # since layer parameters are intitialized randomly ,we will set a random seed for reproduciblity\n",
    "tf.random.set_seed(1)\n",
    "layer=OurDenseLayer(3)\n",
    "layer.build((1,2))\n",
    "x_input=tf.constant([[1,2.]],shape=(1,2))\n",
    "Y=layer.call(x_input)\n",
    "# test the output\n",
    "print(Y.numpy())\n",
    "mld.lab1.test_custom_dense_layer_output(Y)\n"
   ]
  },
  {
   "cell_type": "code",
   "execution_count": 65,
   "metadata": {},
   "outputs": [],
   "source": [
    "# defining a neural network using the Sequential alo\n",
    "# importing relevent packages\n",
    "from keras import Sequential\n",
    "from keras.layers import Dense\n",
    "\n",
    "# defining the number of outputs\n",
    "n_output_node=3\n",
    "\n",
    "# first define the model\n",
    "model=Sequential()\n",
    "# dense layers are define by the parameter w and b!\n",
    "dense_layer=Dense(n_output_node,activation='sigmoid') \n",
    "model.add(dense_layer)\n"
   ]
  },
  {
   "cell_type": "code",
   "execution_count": 66,
   "metadata": {},
   "outputs": [
    {
     "name": "stdout",
     "output_type": "stream",
     "text": [
      "[[0.6586842  0.82441765 0.7221868 ]]\n"
     ]
    }
   ],
   "source": [
    "# now testing the model with example input\n",
    "x_input=tf.constant([[1,2.]],shape=(1,2))\n",
    "model_output=model(x_input).numpy()\n",
    "print(model_output)"
   ]
  },
  {
   "cell_type": "code",
   "execution_count": 69,
   "metadata": {},
   "outputs": [],
   "source": [
    "# defining a model using subclassing\n",
    "from tensorflow.keras import Model\n",
    "from keras.layers import Dense\n",
    "\n",
    "class SubclassModel(tf.keras.Model):\n",
    "    # in _init_ we define the model's layer\n",
    "    def __init__(self,n_output_nodes):\n",
    "        super(SubclassModel,self).__init__()\n",
    "        self.dense_layer=Dense(n_output_node,activation=\"sigmoid\")\n",
    "        # in the call function we define the model's forward pass\n",
    "    def call(self,inputs):\n",
    "        return self.dense_layer(inputs)    "
   ]
  },
  {
   "cell_type": "code",
   "execution_count": 70,
   "metadata": {},
   "outputs": [
    {
     "name": "stdout",
     "output_type": "stream",
     "text": [
      "tf.Tensor([[0.37674904 0.80793077 0.54068625]], shape=(1, 3), dtype=float32)\n"
     ]
    }
   ],
   "source": [
    "# now test out subclasmodel\n",
    "n_output_node=3\n",
    "model=SubclassModel(n_output_node)\n",
    "x_input=tf.constant([[1,2.]],shape=(1,2))\n",
    "print(model.call(x_input))"
   ]
  },
  {
   "cell_type": "code",
   "execution_count": 73,
   "metadata": {},
   "outputs": [],
   "source": [
    "# defining a model using subclassing and specifying custom behavior\n",
    "from tensorflow.keras import Model\n",
    "from tensorflow.keras.layers import Dense\n",
    "class IdentityModel(tf.keras.Model):\n",
    "    def __init__(self,n_output_node):\n",
    "        super(IdentityModel,self).__init__()\n",
    "        self.dense_layer=Dense(n_output_node,activation=\"sigmoid\")\n",
    "\n",
    "    def call(self,input,isidentity=False):\n",
    "        x=self.dense_layer(input)\n",
    "        if isidentity:\n",
    "            return input\n",
    "        return x    "
   ]
  },
  {
   "cell_type": "code",
   "execution_count": 92,
   "metadata": {},
   "outputs": [
    {
     "name": "stdout",
     "output_type": "stream",
     "text": [
      "network output with activation:[[0.26714668 0.17264211 0.9068334 ]]; network identity output:[[1. 2.]]\n"
     ]
    }
   ],
   "source": [
    "# lets check the behavior:\n",
    "n_output_node=3\n",
    "model=IdentityModel(n_output_node)\n",
    "x_input=tf.constant([[1,2.0]],shape=(1,2))\n",
    "out_activation=model.call(x_input)\n",
    "out_identity=model.call(x_input,isidentity=True)\n",
    "print(\"network output with activation:{}; network identity output:{}\".format(out_activation.numpy(),out_identity.numpy()))"
   ]
  },
  {
   "cell_type": "markdown",
   "metadata": {},
   "source": [
    "# Automatic differentiation in tensorflow"
   ]
  },
  {
   "cell_type": "code",
   "execution_count": 101,
   "metadata": {},
   "outputs": [
    {
     "name": "stdout",
     "output_type": "stream",
     "text": [
      "6.0\n"
     ]
    }
   ],
   "source": [
    "# gradient computation with gradientTape\n",
    "# y=x^2\n",
    "x=tf.Variable(3.0)\n",
    "with tf.GradientTape() as tape:\n",
    "    y=x**2\n",
    "    tape.watch(x)\n",
    "dy_dx=tape.gradient(y,x)\n",
    "print(dy_dx.numpy())\n",
    "\n"
   ]
  },
  {
   "cell_type": "code",
   "execution_count": 115,
   "metadata": {},
   "outputs": [
    {
     "name": "stdout",
     "output_type": "stream",
     "text": [
      "init x=[[-0.92759573]]\n",
      "this is max loss-- [24.281199]\n",
      "this is min loss [2.420144e-06]\n"
     ]
    },
    {
     "data": {
      "text/plain": [
       "Text(0, 0.5, 'x-value')"
      ]
     },
     "execution_count": 115,
     "metadata": {},
     "output_type": "execute_result"
    },
    {
     "data": {
      "image/png": "[encoded data removed]",
      "text/plain": [
       "<Figure size 640x480 with 1 Axes>"
      ]
     },
     "metadata": {},
     "output_type": "display_data"
    }
   ],
   "source": [
    "# function minmize the loss func\n",
    "# initi the variabel \n",
    "x=tf.Variable([tf.random.normal([1])])\n",
    "print(\"init x={}\".format(x.numpy()))\n",
    "learning_rate=1e-2 #learning rate for SGD\n",
    "history=[]\n",
    "losses=[]\n",
    "# define the target vaue\n",
    "x_f=4\n",
    "# now we will run SGD for a number if iteratins.at each iteration we comput the loss,\n",
    "# compte the deruvative of the loss with repect to x,and perform the SGD update.\n",
    "for i in range(400):\n",
    "    with tf.GradientTape() as tape:\n",
    "        loss=(x-x_f)**2  # forward pass record the current losss on the tape\n",
    "        losses.append(loss.numpy()[0])\n",
    "    # loss minimizaiton using gradient tape\n",
    "    grad=tape.gradient(loss,x)\n",
    "    new_x=x-learning_rate*grad\n",
    "    x.assign(new_x)\n",
    "    history.append(x.numpy()[0])\n",
    "print(\"this is max loss--\",max(losses))\n",
    "print(\"this is min loss\",min(losses))\n",
    "#plot the evolution of x as we optimize toward x_f!\n",
    "plt.plot(history)\n",
    "plt.plot([0,500],[x_f,x_f])\n",
    "plt.legend(('prediction','true'))\n",
    "plt.xlabel('Iteration')\n",
    "plt.ylabel('x-value') "
   ]
  },
  {
   "cell_type": "code",
   "execution_count": 117,
   "metadata": {},
   "outputs": [
    {
     "name": "stdout",
     "output_type": "stream",
     "text": [
      "(3, 2)\n",
      "(3, 2)\n"
     ]
    }
   ],
   "source": [
    "w = tf.Variable(tf.random.normal((3, 2)), name='w')\n",
    "b = tf.Variable(tf.zeros(2, dtype=tf.float32), name='b')\n",
    "x = [[1., 2., 3.]]\n",
    "\n",
    "with tf.GradientTape(persistent=True) as tape:\n",
    "  y = x @ w + b\n",
    "  loss = tf.reduce_mean(y**2)\n",
    "\n",
    "[dl_dw, dl_db] = tape.gradient(loss, [w, b])\n",
    "print(w.shape)\n",
    "print(dl_dw.shape)"
   ]
  },
  {
   "cell_type": "code",
   "execution_count": null,
   "metadata": {},
   "outputs": [],
   "source": []
  }
 ],
 "metadata": {
  "kernelspec": {
   "display_name": "DeepVenv",
   "language": "python",
   "name": "python3"
  },
  "language_info": {
   "codemirror_mode": {
    "name": "ipython",
    "version": 3
   },
   "file_extension": ".py",
   "mimetype": "text/x-python",
   "name": "python",
   "nbconvert_exporter": "python",
   "pygments_lexer": "ipython3",
   "version": "3.11.0"
  },
  "orig_nbformat": 4
 },
 "nbformat": 4,
 "nbformat_minor": 2
}
