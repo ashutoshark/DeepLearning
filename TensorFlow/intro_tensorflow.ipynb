{
 "cells": [
  {
   "cell_type": "markdown",
   "metadata": {},
   "source": [
    "importing some important lib"
   ]
  },
  {
   "cell_type": "code",
   "execution_count": 8,
   "metadata": {},
   "outputs": [],
   "source": [
    "import tensorflow as tf\n",
    "import mitdeeplearning as mld\n",
    "import numpy as np\n",
    "import matplotlib.pyplot as plt\n"
   ]
  },
  {
   "cell_type": "code",
   "execution_count": 10,
   "metadata": {},
   "outputs": [
    {
     "name": "stdout",
     "output_type": "stream",
     "text": [
      "`sport` is a <bound method _EagerTensorBase.numpy of <tf.Tensor: shape=(), dtype=int32, numpy=0>>-d Tensor\n",
      "`number`is a <bound method _EagerTensorBase.numpy of <tf.Tensor: shape=(), dtype=int32, numpy=0>>-d Tensor\n"
     ]
    }
   ],
   "source": [
    "sport=tf.constant(\"Tennis\",tf.string)\n",
    "number=tf.constant(1.234345343,tf.float64)\n",
    "print(\"`sport` is a {}-d Tensor\".format(tf.rank(sport).numpy))\n",
    "print(\"`number`is a {}-d Tensor\".format(tf.rank(number).numpy))"
   ]
  },
  {
   "cell_type": "markdown",
   "metadata": {},
   "source": [
    "vector and list can be used as 1-d tensor\n"
   ]
  },
  {
   "cell_type": "code",
   "execution_count": 13,
   "metadata": {},
   "outputs": [
    {
     "name": "stdout",
     "output_type": "stream",
     "text": [
      "`sport1` is a <bound method _EagerTensorBase.numpy of <tf.Tensor: shape=(), dtype=int32, numpy=1>>-d Tensor\n",
      "`number1`is a <bound method _EagerTensorBase.numpy of <tf.Tensor: shape=(), dtype=int32, numpy=1>>-d Tensor\n"
     ]
    }
   ],
   "source": [
    "sport1=tf.constant([\"tennis\",\"football\"],tf.string)\n",
    "number1=tf.constant([1.234444544,5.354457876,6.987868775765],tf.float32)\n",
    "print(\"`sport1` is a {}-d Tensor\".format(tf.rank(sport1).numpy))\n",
    "print(\"`number1`is a {}-d Tensor\".format(tf.rank(number1).numpy))\n"
   ]
  },
  {
   "cell_type": "code",
   "execution_count": 18,
   "metadata": {},
   "outputs": [],
   "source": [
    "matrix=tf.constant([[1,2,3],[1,2,3],[1,2,3]],tf.int64)\n",
    "# print(\"`matrix`is a {}-d Tensor\".format(tf.rank(matrix).numpy))\n",
    "assert isinstance(matrix,tf.Tensor)\n",
    "assert tf.rank(matrix).numpy()==2\n"
   ]
  },
  {
   "cell_type": "code",
   "execution_count": 25,
   "metadata": {},
   "outputs": [],
   "source": [
    "# creating 4-D also known as rank-4 tensor\n",
    "image=tf.zeros([10,256,256,3])\n",
    "assert isinstance(image,tf.Tensor)\n",
    "assert tf.rank(image).numpy()==4\n",
    "assert tf.shape(image).numpy().tolist()==[10,256,256,3]\n"
   ]
  },
  {
   "cell_type": "code",
   "execution_count": 27,
   "metadata": {},
   "outputs": [
    {
     "name": "stdout",
     "output_type": "stream",
     "text": [
      "row_vector\n",
      "col_vector\n",
      "scalar\n",
      "tf.Tensor(2, shape=(), dtype=int64)\n"
     ]
    }
   ],
   "source": [
    "row_vector=matrix[1]\n",
    "col_vector=matrix[:1]\n",
    "scalar=matrix[0,1]\n",
    "print(\"row_vector\".format(row_vector.numpy()))\n",
    "print(\"col_vector\".format(col_vector.numpy()))\n",
    "print(\"scalar\".format(scalar.numpy()))\n",
    "print(scalar)"
   ]
  },
  {
   "cell_type": "code",
   "execution_count": 28,
   "metadata": {},
   "outputs": [
    {
     "name": "stdout",
     "output_type": "stream",
     "text": [
      "tf.Tensor(51, shape=(), dtype=int32)\n",
      "tf.Tensor(51, shape=(), dtype=int32)\n"
     ]
    }
   ],
   "source": [
    "# compuation on Tensor\n",
    "# crate the node and initialize values\n",
    "a=tf.constant(12)\n",
    "b=tf.constant(39)\n",
    "c1=tf.add(a,b)\n",
    "c2=a+b\n",
    "print(c1)\n",
    "print(c2)"
   ]
  },
  {
   "cell_type": "code",
   "execution_count": 35,
   "metadata": {},
   "outputs": [
    {
     "name": "stdout",
     "output_type": "stream",
     "text": [
      "tf.Tensor(42, shape=(), dtype=int32)\n"
     ]
    }
   ],
   "source": [
    "\n",
    "def fun(a,b):\n",
    "    c=tf.add(a,b)\n",
    "    d=tf.subtract(b,1)\n",
    "    e=tf.multiply(c,d)\n",
    "    return e\n",
    "e_out=fun(10,4)\n",
    "print(e_out)"
   ]
  },
  {
   "cell_type": "code",
   "execution_count": null,
   "metadata": {},
   "outputs": [],
   "source": []
  }
 ],
 "metadata": {
  "kernelspec": {
   "display_name": "DeepVenv",
   "language": "python",
   "name": "python3"
  },
  "language_info": {
   "codemirror_mode": {
    "name": "ipython",
    "version": 3
   },
   "file_extension": ".py",
   "mimetype": "text/x-python",
   "name": "python",
   "nbconvert_exporter": "python",
   "pygments_lexer": "ipython3",
   "version": "3.11.0"
  },
  "orig_nbformat": 4
 },
 "nbformat": 4,
 "nbformat_minor": 2
}
